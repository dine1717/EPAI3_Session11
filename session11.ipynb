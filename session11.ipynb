{
 "metadata": {
  "language_info": {
   "codemirror_mode": {
    "name": "ipython",
    "version": 3
   },
   "file_extension": ".py",
   "mimetype": "text/x-python",
   "name": "python",
   "nbconvert_exporter": "python",
   "pygments_lexer": "ipython3",
   "version": "3.8.3"
  },
  "orig_nbformat": 2,
  "kernelspec": {
   "name": "python3",
   "display_name": "Python 3.8.3 64-bit ('base': conda)",
   "metadata": {
    "interpreter": {
     "hash": "7798fa333b9d4b8bcd5d88812bb82ea248dcae56209490eced67e5589c006e54"
    }
   }
  }
 },
 "nbformat": 4,
 "nbformat_minor": 2,
 "cells": [
  {
   "source": [
    "# Session 11"
   ],
   "cell_type": "markdown",
   "metadata": {}
  },
  {
   "cell_type": "code",
   "execution_count": 25,
   "metadata": {},
   "outputs": [],
   "source": [
    "import session11_1 as rp\n",
    "import session11_2 as ps\n",
    "import test"
   ]
  },
  {
   "cell_type": "code",
   "execution_count": 19,
   "metadata": {},
   "outputs": [],
   "source": [
    "poly_25 = ps.RegularPolySeq(25,3)"
   ]
  },
  {
   "cell_type": "code",
   "execution_count": 20,
   "metadata": {},
   "outputs": [
    {
     "output_type": "execute_result",
     "data": {
      "text/plain": [
       "[(RegularPoly(3, 3), 0.7500000000000002),\n",
       " (RegularPoly(4, 3), 1.0606601717798214),\n",
       " (RegularPoly(5, 3), 1.2135254915624212),\n",
       " (RegularPoly(6, 3), 1.299038105676658),\n",
       " (RegularPoly(7, 3), 1.3514533018536288),\n",
       " (RegularPoly(8, 3), 1.38581929876693),\n",
       " (RegularPoly(9, 3), 1.4095389311788626),\n",
       " (RegularPoly(10, 3), 1.4265847744427302),\n",
       " (RegularPoly(11, 3), 1.439239460421746),\n",
       " (RegularPoly(12, 3), 1.4488887394336025),\n",
       " (RegularPoly(13, 3), 1.456412726139078),\n",
       " (RegularPoly(14, 3), 1.4623918682727355),\n",
       " (RegularPoly(15, 3), 1.4672214011007085),\n",
       " (RegularPoly(16, 3), 1.4711779206048456),\n",
       " (RegularPoly(17, 3), 1.4744596495258526),\n",
       " (RegularPoly(18, 3), 1.477211629518312),\n",
       " (RegularPoly(19, 3), 1.4795419551040836),\n",
       " (RegularPoly(20, 3), 1.4815325108927067),\n",
       " (RegularPoly(21, 3), 1.4832462393376928),\n",
       " (RegularPoly(22, 3), 1.484732162821399),\n",
       " (RegularPoly(23, 3), 1.4860289190544962),\n",
       " (RegularPoly(24, 3), 1.4871672920607155),\n",
       " (RegularPoly(25, 3), 1.4881720519717168)]"
      ]
     },
     "metadata": {},
     "execution_count": 20
    }
   ],
   "source": [
    "list(poly_25)"
   ]
  },
  {
   "cell_type": "code",
   "execution_count": 21,
   "metadata": {},
   "outputs": [
    {
     "output_type": "execute_result",
     "data": {
      "text/plain": [
       "(RegularPoly(4, 3), 1.0606601717798214)"
      ]
     },
     "metadata": {},
     "execution_count": 21
    }
   ],
   "source": [
    "poly_25.__getitem__(1)"
   ]
  },
  {
   "cell_type": "code",
   "execution_count": 22,
   "metadata": {},
   "outputs": [
    {
     "output_type": "execute_result",
     "data": {
      "text/plain": [
       "23"
      ]
     },
     "metadata": {},
     "execution_count": 22
    }
   ],
   "source": [
    "poly_25.__len__()"
   ]
  },
  {
   "cell_type": "code",
   "execution_count": 23,
   "metadata": {},
   "outputs": [
    {
     "output_type": "execute_result",
     "data": {
      "text/plain": [
       "'RegularPolySeq(25, 3)'"
      ]
     },
     "metadata": {},
     "execution_count": 23
    }
   ],
   "source": [
    "\n",
    "poly_25.__repr__()"
   ]
  },
  {
   "cell_type": "code",
   "execution_count": 24,
   "metadata": {},
   "outputs": [
    {
     "output_type": "stream",
     "name": "stdout",
     "text": [
      "RegularPolySeq(25, 3)\n"
     ]
    }
   ],
   "source": [
    "print(poly_25)\n"
   ]
  },
  {
   "cell_type": "code",
   "execution_count": null,
   "metadata": {},
   "outputs": [],
   "source": [
    "poly_25.max_efficiency_poly\n"
   ]
  },
  {
   "cell_type": "code",
   "execution_count": 27,
   "metadata": {},
   "outputs": [
    {
     "output_type": "stream",
     "name": "stdout",
     "text": [
      "Iterable functionality is working fine, next() is implemented\n"
     ]
    }
   ],
   "source": [
    "test.test_iterable()"
   ]
  },
  {
   "cell_type": "code",
   "execution_count": 29,
   "metadata": {},
   "outputs": [
    {
     "output_type": "stream",
     "name": "stdout",
     "text": [
      "(RegularPoly(3, 10), 2.5000000000000004)\n(RegularPoly(4, 10), 3.5355339059327378)\n(RegularPoly(3, 10), 2.5000000000000004)\n(RegularPoly(4, 10), 3.5355339059327378)\nFor loop was done over polygon twice and it didnt get exhaust\n"
     ]
    }
   ],
   "source": [
    "test.test_iterables_exhaust()"
   ]
  },
  {
   "cell_type": "code",
   "execution_count": 57,
   "metadata": {},
   "outputs": [],
   "source": [
    "def is_iterable(obj):\n",
    "    \"\"\" Function to check object is iterable\"\"\"\n",
    "    try:\n",
    "        iter(obj)\n",
    "        return True\n",
    "    except TypeError:\n",
    "        return False"
   ]
  },
  {
   "cell_type": "code",
   "execution_count": 58,
   "metadata": {},
   "outputs": [],
   "source": [
    "# create a iterator\n",
    "poly_5 = ps.RegularPolySeq(5,3)"
   ]
  },
  {
   "cell_type": "code",
   "execution_count": 59,
   "metadata": {},
   "outputs": [
    {
     "output_type": "execute_result",
     "data": {
      "text/plain": [
       "True"
      ]
     },
     "metadata": {},
     "execution_count": 59
    }
   ],
   "source": [
    "is_iterable(poly_5)"
   ]
  },
  {
   "cell_type": "code",
   "execution_count": 60,
   "metadata": {},
   "outputs": [],
   "source": [
    "#create a new itertor\n",
    "poly_itrator = iter(poly_5)"
   ]
  },
  {
   "cell_type": "code",
   "execution_count": 62,
   "metadata": {},
   "outputs": [
    {
     "output_type": "execute_result",
     "data": {
      "text/plain": [
       "[(RegularPoly(3, 3), 0.7500000000000002),\n",
       " (RegularPoly(4, 3), 1.0606601717798214),\n",
       " (RegularPoly(5, 3), 1.2135254915624212)]"
      ]
     },
     "metadata": {},
     "execution_count": 62
    }
   ],
   "source": [
    "# test for list comprehension\n",
    "poly_list = [poly for poly in poly_5]\n",
    "poly_list"
   ]
  },
  {
   "source": [
    "## Check __Next__Method__"
   ],
   "cell_type": "markdown",
   "metadata": {}
  },
  {
   "cell_type": "code",
   "execution_count": 49,
   "metadata": {},
   "outputs": [],
   "source": [
    "polygons = ps.RegularPolySeq(6, 10)"
   ]
  },
  {
   "cell_type": "code",
   "execution_count": 50,
   "metadata": {},
   "outputs": [
    {
     "output_type": "execute_result",
     "data": {
      "text/plain": [
       "RegularPolySeq(6, 10)"
      ]
     },
     "metadata": {},
     "execution_count": 50
    }
   ],
   "source": [
    "polygons"
   ]
  },
  {
   "cell_type": "code",
   "execution_count": 51,
   "metadata": {},
   "outputs": [],
   "source": [
    "iter_poly = iter(polygons)"
   ]
  },
  {
   "cell_type": "code",
   "execution_count": 52,
   "metadata": {},
   "outputs": [
    {
     "output_type": "execute_result",
     "data": {
      "text/plain": [
       "'(RegularPoly(3, 10), 2.5000000000000004)'"
      ]
     },
     "metadata": {},
     "execution_count": 52
    }
   ],
   "source": [
    "str(next(iter_poly))"
   ]
  },
  {
   "cell_type": "code",
   "execution_count": 53,
   "metadata": {},
   "outputs": [
    {
     "output_type": "execute_result",
     "data": {
      "text/plain": [
       "'(RegularPoly(4, 10), 3.5355339059327378)'"
      ]
     },
     "metadata": {},
     "execution_count": 53
    }
   ],
   "source": [
    "str(next(iter_poly))"
   ]
  },
  {
   "cell_type": "code",
   "execution_count": 54,
   "metadata": {},
   "outputs": [
    {
     "output_type": "execute_result",
     "data": {
      "text/plain": [
       "'(RegularPoly(5, 10), 4.045084971874737)'"
      ]
     },
     "metadata": {},
     "execution_count": 54
    }
   ],
   "source": [
    "str(next(iter_poly))"
   ]
  },
  {
   "cell_type": "code",
   "execution_count": 55,
   "metadata": {},
   "outputs": [
    {
     "output_type": "execute_result",
     "data": {
      "text/plain": [
       "'(RegularPoly(6, 10), 4.330127018922194)'"
      ]
     },
     "metadata": {},
     "execution_count": 55
    }
   ],
   "source": [
    "str(next(iter_poly))"
   ]
  },
  {
   "cell_type": "code",
   "execution_count": 56,
   "metadata": {},
   "outputs": [
    {
     "output_type": "error",
     "ename": "StopIteration",
     "evalue": "",
     "traceback": [
      "\u001b[0;31m---------------------------------------------------------------------------\u001b[0m",
      "\u001b[0;31mStopIteration\u001b[0m                             Traceback (most recent call last)",
      "\u001b[0;32m<ipython-input-56-33a7783e0e2f>\u001b[0m in \u001b[0;36m<module>\u001b[0;34m\u001b[0m\n\u001b[0;32m----> 1\u001b[0;31m \u001b[0mstr\u001b[0m\u001b[0;34m(\u001b[0m\u001b[0mnext\u001b[0m\u001b[0;34m(\u001b[0m\u001b[0miter_poly\u001b[0m\u001b[0;34m)\u001b[0m\u001b[0;34m)\u001b[0m\u001b[0;34m\u001b[0m\u001b[0;34m\u001b[0m\u001b[0m\n\u001b[0m",
      "\u001b[0;31mStopIteration\u001b[0m: "
     ]
    }
   ],
   "source": [
    "str(next(iter_poly))"
   ]
  },
  {
   "cell_type": "code",
   "execution_count": null,
   "metadata": {},
   "outputs": [],
   "source": []
  }
 ]
}